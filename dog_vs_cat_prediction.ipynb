{
  "nbformat": 4,
  "nbformat_minor": 0,
  "metadata": {
    "colab": {
      "provenance": [],
      "gpuType": "T4",
      "include_colab_link": true
    },
    "kernelspec": {
      "name": "python3",
      "display_name": "Python 3"
    },
    "accelerator": "GPU"
  },
  "cells": [
    {
      "cell_type": "markdown",
      "metadata": {
        "id": "view-in-github",
        "colab_type": "text"
      },
      "source": [
        "<a href=\"https://colab.research.google.com/github/Parthsawant1298/13_Intelligent_Automation/blob/main/dog_vs_cat_prediction.ipynb\" target=\"_parent\"><img src=\"https://colab.research.google.com/assets/colab-badge.svg\" alt=\"Open In Colab\"/></a>"
      ]
    },
    {
      "cell_type": "markdown",
      "metadata": {
        "id": "3DR-eO17geWu"
      },
      "source": [
        "# Convolutional Neural Network"
      ]
    },
    {
      "cell_type": "markdown",
      "metadata": {
        "id": "EMefrVPCg-60"
      },
      "source": [
        "### Importing the libraries"
      ]
    },
    {
      "cell_type": "code",
      "source": [
        "import tensorflow as tf\n",
        "from keras.preprocessing.image import ImageDataGenerator"
      ],
      "metadata": {
        "id": "kxqhouGPPqrY"
      },
      "execution_count": null,
      "outputs": []
    },
    {
      "cell_type": "markdown",
      "metadata": {
        "id": "oxQxCBWyoGPE"
      },
      "source": [
        "## Part 1 - Data Preprocessing"
      ]
    },
    {
      "cell_type": "markdown",
      "metadata": {
        "id": "MvE-heJNo3GG"
      },
      "source": [
        "### Preprocessing the Training set"
      ]
    },
    {
      "cell_type": "code",
      "source": [
        "from google.colab import drive\n",
        "drive.mount('/content/drive')"
      ],
      "metadata": {
        "colab": {
          "base_uri": "https://localhost:8080/"
        },
        "id": "1VgWKrPcm9lw",
        "outputId": "84322b4e-4690-4407-e221-2e6d21e1b7d3"
      },
      "execution_count": null,
      "outputs": [
        {
          "output_type": "stream",
          "name": "stdout",
          "text": [
            "Drive already mounted at /content/drive; to attempt to forcibly remount, call drive.mount(\"/content/drive\", force_remount=True).\n"
          ]
        }
      ]
    },
    {
      "cell_type": "code",
      "source": [
        "!unzip '/content/drive/MyDrive/dataset.zip' -d '/content/dataset'\n"
      ],
      "metadata": {
        "id": "Mi_rgoaInAhR",
        "colab": {
          "base_uri": "https://localhost:8080/"
        },
        "outputId": "62e1a059-9ed7-49fa-864d-bcee549a91aa",
        "collapsed": true
      },
      "execution_count": null,
      "outputs": [
        {
          "output_type": "stream",
          "name": "stdout",
          "text": [
            "Archive:  /content/drive/MyDrive/dataset.zip\n",
            "replace /content/dataset/__MACOSX/._dataset? [y]es, [n]o, [A]ll, [N]one, [r]ename: "
          ]
        }
      ]
    },
    {
      "cell_type": "code",
      "source": [
        "training_set ='/content/dataset/dataset/training_set'\n",
        "test_set ='/content/dataset/dataset/test_set'"
      ],
      "metadata": {
        "id": "XT6KnA0YvImq"
      },
      "execution_count": null,
      "outputs": []
    },
    {
      "cell_type": "code",
      "source": [
        "\n",
        "train_datagen = ImageDataGenerator(rescale=1./255,\n",
        "                                   shear_range=0.2,\n",
        "                                   zoom_range=0.2,\n",
        "                                   horizontal_flip=True)\n",
        "\n",
        "\n",
        "\n",
        "training_set = train_datagen.flow_from_directory(training_set,\n",
        "                                                 target_size=(64, 64),\n",
        "                                                 batch_size=32,\n",
        "                                                 class_mode='binary')"
      ],
      "metadata": {
        "id": "YVJ7HbqmRwYO"
      },
      "execution_count": null,
      "outputs": []
    },
    {
      "cell_type": "markdown",
      "metadata": {
        "id": "mrCMmGw9pHys"
      },
      "source": [
        "### Preprocessing the Test set"
      ]
    },
    {
      "cell_type": "code",
      "source": [
        "test_datagen = ImageDataGenerator(rescale = 1./255)\n",
        "test_set = test_datagen.flow_from_directory(test_set,\n",
        "                                            target_size = (64, 64),\n",
        "                                            batch_size = 32,\n",
        "                                            class_mode = 'binary')"
      ],
      "metadata": {
        "id": "57Oh03wHVYZn"
      },
      "execution_count": null,
      "outputs": []
    },
    {
      "cell_type": "markdown",
      "metadata": {
        "id": "af8O4l90gk7B"
      },
      "source": [
        "## Part 2 - Building the CNN"
      ]
    },
    {
      "cell_type": "markdown",
      "metadata": {
        "id": "ces1gXY2lmoX"
      },
      "source": [
        "### Initialising the CNN"
      ]
    },
    {
      "cell_type": "code",
      "source": [
        "cnn = tf.keras.models.Sequential()"
      ],
      "metadata": {
        "id": "EefoZNCshWcb"
      },
      "execution_count": null,
      "outputs": []
    },
    {
      "cell_type": "markdown",
      "metadata": {
        "id": "u5YJj_XMl5LF"
      },
      "source": [
        "### Step 1 - Convolution"
      ]
    },
    {
      "cell_type": "code",
      "source": [
        "cnn.add(tf.keras.layers.Conv2D(filters=32, kernel_size=3, activation='relu', input_shape=[64, 64, 3]))"
      ],
      "metadata": {
        "id": "XScUYjjxiULS"
      },
      "execution_count": null,
      "outputs": []
    },
    {
      "cell_type": "markdown",
      "metadata": {
        "id": "tf87FpvxmNOJ"
      },
      "source": [
        "### Step 2 - Pooling"
      ]
    },
    {
      "cell_type": "code",
      "source": [
        "cnn.add(tf.keras.layers.MaxPool2D(pool_size=2, strides=2))"
      ],
      "metadata": {
        "id": "rzfOx0HMkmCd"
      },
      "execution_count": null,
      "outputs": []
    },
    {
      "cell_type": "markdown",
      "metadata": {
        "id": "xaTOgD8rm4mU"
      },
      "source": [
        "### Adding a second convolutional layer"
      ]
    },
    {
      "cell_type": "code",
      "source": [
        "cnn.add(tf.keras.layers.Conv2D(filters=32, kernel_size=3, activation='relu'))\n",
        "cnn.add(tf.keras.layers.MaxPool2D(pool_size=2, strides=2))"
      ],
      "metadata": {
        "id": "QdXhr_-9k_aL"
      },
      "execution_count": null,
      "outputs": []
    },
    {
      "cell_type": "markdown",
      "metadata": {
        "id": "tmiEuvTunKfk"
      },
      "source": [
        "### Step 3 - Flattening"
      ]
    },
    {
      "cell_type": "code",
      "source": [
        "cnn.add(tf.keras.layers.Flatten())"
      ],
      "metadata": {
        "id": "ukCDnNkqlZe3"
      },
      "execution_count": null,
      "outputs": []
    },
    {
      "cell_type": "markdown",
      "metadata": {
        "id": "dAoSECOm203v"
      },
      "source": [
        "### Step 4 - Full Connection"
      ]
    },
    {
      "cell_type": "code",
      "source": [
        "cnn.add(tf.keras.layers.Dense(units=128, activation='relu'))"
      ],
      "metadata": {
        "id": "4Zasdc_Flv8x"
      },
      "execution_count": null,
      "outputs": []
    },
    {
      "cell_type": "markdown",
      "metadata": {
        "id": "yTldFvbX28Na"
      },
      "source": [
        "### Step 5 - Output Layer"
      ]
    },
    {
      "cell_type": "code",
      "source": [
        "cnn.add(tf.keras.layers.Dense(units=1, activation='sigmoid'))"
      ],
      "metadata": {
        "id": "VrFo9FtxmULh"
      },
      "execution_count": null,
      "outputs": []
    },
    {
      "cell_type": "markdown",
      "metadata": {
        "id": "D6XkI90snSDl"
      },
      "source": [
        "## Part 3 - Training the CNN"
      ]
    },
    {
      "cell_type": "markdown",
      "metadata": {
        "id": "vfrFQACEnc6i"
      },
      "source": [
        "### Compiling the CNN"
      ]
    },
    {
      "cell_type": "code",
      "source": [
        "cnn.compile(optimizer = 'adam', loss = 'binary_crossentropy', metrics = ['accuracy'])"
      ],
      "metadata": {
        "id": "2qy4CU42mp4r"
      },
      "execution_count": null,
      "outputs": []
    },
    {
      "cell_type": "markdown",
      "metadata": {
        "id": "ehS-v3MIpX2h"
      },
      "source": [
        "### Training the CNN on the Training set and evaluating it on the Test set"
      ]
    },
    {
      "cell_type": "code",
      "source": [
        "cnn.fit(x = training_set, validation_data = test_set, epochs = 25)"
      ],
      "metadata": {
        "colab": {
          "base_uri": "https://localhost:8080/"
        },
        "id": "AUuQMCERmwsI",
        "outputId": "cad27aee-0930-44d4-822b-a2280045725c"
      },
      "execution_count": null,
      "outputs": [
        {
          "output_type": "stream",
          "name": "stdout",
          "text": [
            "Epoch 1/25\n",
            "250/250 [==============================] - 27s 89ms/step - loss: 0.6527 - accuracy: 0.6110 - val_loss: 0.5946 - val_accuracy: 0.6960\n",
            "Epoch 2/25\n",
            "250/250 [==============================] - 22s 88ms/step - loss: 0.5925 - accuracy: 0.6839 - val_loss: 0.5400 - val_accuracy: 0.7465\n",
            "Epoch 3/25\n",
            "250/250 [==============================] - 21s 84ms/step - loss: 0.5527 - accuracy: 0.7143 - val_loss: 0.5174 - val_accuracy: 0.7470\n",
            "Epoch 4/25\n",
            "250/250 [==============================] - 22s 88ms/step - loss: 0.5216 - accuracy: 0.7395 - val_loss: 0.5155 - val_accuracy: 0.7545\n",
            "Epoch 5/25\n",
            "250/250 [==============================] - 24s 95ms/step - loss: 0.5010 - accuracy: 0.7571 - val_loss: 0.4996 - val_accuracy: 0.7625\n",
            "Epoch 6/25\n",
            "250/250 [==============================] - 21s 83ms/step - loss: 0.4809 - accuracy: 0.7681 - val_loss: 0.4900 - val_accuracy: 0.7680\n",
            "Epoch 7/25\n",
            "250/250 [==============================] - 22s 88ms/step - loss: 0.4635 - accuracy: 0.7768 - val_loss: 0.4965 - val_accuracy: 0.7770\n",
            "Epoch 8/25\n",
            "250/250 [==============================] - 24s 95ms/step - loss: 0.4518 - accuracy: 0.7866 - val_loss: 0.4933 - val_accuracy: 0.7670\n",
            "Epoch 9/25\n",
            "250/250 [==============================] - 21s 84ms/step - loss: 0.4349 - accuracy: 0.7929 - val_loss: 0.4705 - val_accuracy: 0.7825\n",
            "Epoch 10/25\n",
            "250/250 [==============================] - 22s 87ms/step - loss: 0.4204 - accuracy: 0.8102 - val_loss: 0.4540 - val_accuracy: 0.7895\n",
            "Epoch 11/25\n",
            "250/250 [==============================] - 21s 85ms/step - loss: 0.4011 - accuracy: 0.8207 - val_loss: 0.4402 - val_accuracy: 0.8030\n",
            "Epoch 12/25\n",
            "250/250 [==============================] - 22s 87ms/step - loss: 0.3970 - accuracy: 0.8201 - val_loss: 0.4514 - val_accuracy: 0.8050\n",
            "Epoch 13/25\n",
            "250/250 [==============================] - 21s 82ms/step - loss: 0.3701 - accuracy: 0.8285 - val_loss: 0.5518 - val_accuracy: 0.7625\n",
            "Epoch 14/25\n",
            "250/250 [==============================] - 23s 90ms/step - loss: 0.3627 - accuracy: 0.8389 - val_loss: 0.4856 - val_accuracy: 0.7955\n",
            "Epoch 15/25\n",
            "250/250 [==============================] - 21s 86ms/step - loss: 0.3641 - accuracy: 0.8418 - val_loss: 0.4795 - val_accuracy: 0.7945\n",
            "Epoch 16/25\n",
            "250/250 [==============================] - 21s 83ms/step - loss: 0.3397 - accuracy: 0.8496 - val_loss: 0.4847 - val_accuracy: 0.8030\n",
            "Epoch 17/25\n",
            "250/250 [==============================] - 23s 90ms/step - loss: 0.3237 - accuracy: 0.8556 - val_loss: 0.5083 - val_accuracy: 0.7955\n",
            "Epoch 18/25\n",
            "250/250 [==============================] - 21s 85ms/step - loss: 0.3091 - accuracy: 0.8651 - val_loss: 0.4749 - val_accuracy: 0.8140\n",
            "Epoch 19/25\n",
            "250/250 [==============================] - 22s 89ms/step - loss: 0.3028 - accuracy: 0.8720 - val_loss: 0.4958 - val_accuracy: 0.8060\n",
            "Epoch 20/25\n",
            "250/250 [==============================] - 24s 96ms/step - loss: 0.2920 - accuracy: 0.8756 - val_loss: 0.5029 - val_accuracy: 0.7915\n",
            "Epoch 21/25\n",
            "250/250 [==============================] - 21s 85ms/step - loss: 0.2740 - accuracy: 0.8815 - val_loss: 0.5362 - val_accuracy: 0.8025\n",
            "Epoch 22/25\n",
            "250/250 [==============================] - 24s 94ms/step - loss: 0.2613 - accuracy: 0.8895 - val_loss: 0.5299 - val_accuracy: 0.8095\n",
            "Epoch 23/25\n",
            "250/250 [==============================] - 21s 85ms/step - loss: 0.2497 - accuracy: 0.8931 - val_loss: 0.5423 - val_accuracy: 0.7975\n",
            "Epoch 24/25\n",
            "250/250 [==============================] - 22s 89ms/step - loss: 0.2459 - accuracy: 0.8963 - val_loss: 0.5066 - val_accuracy: 0.8055\n",
            "Epoch 25/25\n",
            "250/250 [==============================] - 24s 96ms/step - loss: 0.2294 - accuracy: 0.9082 - val_loss: 0.5975 - val_accuracy: 0.7930\n"
          ]
        },
        {
          "output_type": "execute_result",
          "data": {
            "text/plain": [
              "<keras.src.callbacks.History at 0x7a0d58171db0>"
            ]
          },
          "metadata": {},
          "execution_count": 15
        }
      ]
    },
    {
      "cell_type": "markdown",
      "metadata": {
        "id": "U3PZasO0006Z"
      },
      "source": [
        "## Part 4 - Making a single prediction"
      ]
    },
    {
      "cell_type": "code",
      "source": [
        "import numpy as np\n",
        "from keras.preprocessing import image\n",
        "test_image = image.load_img('/content/pexels-charlesdeluvio-1851164.jpg', target_size = (64, 64))\n",
        "test_image = image.img_to_array(test_image)\n",
        "test_image = np.expand_dims(test_image, axis = 0)\n",
        "result = cnn.predict(test_image)\n",
        "training_set.class_indices\n",
        "if result[0][0] == 1:\n",
        "  prediction = ' it is a dog'\n",
        "else:\n",
        "  prediction = 'it is a cat'"
      ],
      "metadata": {
        "id": "yCIzKOs0CJti"
      },
      "execution_count": null,
      "outputs": []
    },
    {
      "cell_type": "code",
      "source": [
        "print(prediction)"
      ],
      "metadata": {
        "id": "R8GvJY9KnBR1"
      },
      "execution_count": null,
      "outputs": []
    }
  ]
}